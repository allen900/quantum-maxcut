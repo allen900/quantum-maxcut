{
 "cells": [
  {
   "cell_type": "markdown",
   "metadata": {},
   "source": [
    "# Weighted Max-Cut with QAOA\n",
    "\n",
    "## Brief Problem Description\n",
    "\n",
    "The problem of interest is the weighted max cut problem. Given a set of vertices and weighted edges connecting some of the vertices, we are interested in separating the vertices into two sets such that the sum of the weights of the edges between the sets is maximized. \n",
    "\n",
    "## QAOA Description and Value of P\n",
    "\n",
    "QAOA works in two stages: a classical stage and a quantum computing stage. In the frame of Weighted Max-Cut, p is 1 because ()."
   ]
  },
  {
   "cell_type": "code",
   "execution_count": null,
   "metadata": {},
   "outputs": [],
   "source": [
    "import time\n",
    "import matplotlib.pyplot as plt\n",
    "import numpy as np\n",
    "import sys\n",
    "import pandas as pd\n",
    "import Qconfig\n",
    "from tqdm import tqdm\n",
    "from random import randint, choice, uniform\n",
    "from math import ceil\n",
    "from scipy.optimize import minimize\n",
    "from statistics import stdev, mean\n",
    "from qiskit import register, available_backends, QuantumCircuit, QuantumRegister, \\\n",
    "        ClassicalRegister, execute\n"
   ]
  },
  {
   "cell_type": "markdown",
   "metadata": {},
   "source": [
    "### Classical Stage:\n",
    "\n",
    "In the classical stage, two parameters gamma and beta are randomly chosen and fed into the quantum computer. The quantum computer returns an expectation value to the classical computer based on those two parameters. Based on what expectation values it has seen and what it has now, the classical computer alters the parameters to optimize the cost function in aim for a minimum expectation value. This repeats until the classical computer reaches a local minimum."
   ]
  },
  {
   "cell_type": "code",
   "execution_count": null,
   "metadata": {},
   "outputs": [],
   "source": []
  },
  {
   "cell_type": "markdown",
   "metadata": {},
   "source": [
    "### Quantum Stage:\n",
    "\n",
    "In this stage, p + 1 qubits are made based on the parameters gamma and beta along with the cost and driver hamiltonians W and V described below. The qubits are constructed like so: WpVp....W1V1 |Φ>. Where |Φ> is initially p input qubits in the + state and 1 output qubit in the 0 state. To measure the expectation with respect to the cost operator, all the input qubits should be measured and then the probabilities of each state recorded. The weighted average or expectation can then be computed by summing up state probabilities multiplied with state costs like so:\n",
    "\n",
    "C = P(state ‘000..0’) * cost(‘000..0’) + … + P(state ‘111.1’) * cost(‘111..1’)\n",
    "\n"
   ]
  },
  {
   "cell_type": "code",
   "execution_count": null,
   "metadata": {},
   "outputs": [],
   "source": []
  },
  {
   "cell_type": "markdown",
   "metadata": {},
   "source": [
    "## Methods\n",
    "\n",
    "### How Problem is Encoded in Qubits:\n",
    "\n",
    "Given a graph with V vertices and E edges, we could encode a candidate solution as a V-length bitstring, where each bit corresponds to which cut the corresponding node in the graph belongs to. To evaluate cost, we simply iterate through the edges in the graph and, for nodes belonging to different cuts in the given bitstring, we sum the weights of their edges.\n"
   ]
  },
  {
   "cell_type": "code",
   "execution_count": null,
   "metadata": {},
   "outputs": [],
   "source": []
  },
  {
   "cell_type": "markdown",
   "metadata": {},
   "source": [
    "### Cost and Driver Hamiltonians C and B:\n",
    "\n",
    "The cost hamiltonian V can be expressed by exp(-i*gamma*C), where C is the cost operator that transforms a qubit state |Φ> to C(x1,x1,..xp) * |Φ>. In the case of weighted max cut, we can express the cost operator as a sum of local cost operators which each corresponding to an edge in the graph. For each of the qubits corresponding to the vertices of that edge, we apply a phase of e^(i*w*gamma), where w is the weight of the edge between those two qubits.\n",
    "\n",
    "The driver hamiltonian W can be expressed by exp(-i*beta*B), where B is the an operator that flips all the input qubits (X gate on all p input qubits). "
   ]
  },
  {
   "cell_type": "code",
   "execution_count": null,
   "metadata": {},
   "outputs": [],
   "source": []
  }
 ],
 "metadata": {
  "kernelspec": {
   "display_name": "Python (QISKitenv)",
   "language": "python",
   "name": "qiskitenv"
  },
  "language_info": {
   "codemirror_mode": {
    "name": "ipython",
    "version": 3
   },
   "file_extension": ".py",
   "mimetype": "text/x-python",
   "name": "python",
   "nbconvert_exporter": "python",
   "pygments_lexer": "ipython3",
   "version": "3.6.5"
  }
 },
 "nbformat": 4,
 "nbformat_minor": 2
}
